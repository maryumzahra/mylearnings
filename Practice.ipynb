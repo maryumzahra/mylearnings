{
  "nbformat": 4,
  "nbformat_minor": 0,
  "metadata": {
    "colab": {
      "provenance": [],
      "authorship_tag": "ABX9TyNFDBdcPCFqxxUOoBdj2G3u",
      "include_colab_link": true
    },
    "kernelspec": {
      "name": "python3",
      "display_name": "Python 3"
    },
    "language_info": {
      "name": "python"
    }
  },
  "cells": [
    {
      "cell_type": "markdown",
      "metadata": {
        "id": "view-in-github",
        "colab_type": "text"
      },
      "source": [
        "<a href=\"https://colab.research.google.com/github/maryumzahra/mylearnings/blob/main/Practice.ipynb\" target=\"_parent\"><img src=\"https://colab.research.google.com/assets/colab-badge.svg\" alt=\"Open In Colab\"/></a>"
      ]
    },
    {
      "cell_type": "markdown",
      "source": [
        "# Exercise: Functions in python"
      ],
      "metadata": {
        "id": "UnsG5L5Wxi0P"
      }
    },
    {
      "cell_type": "markdown",
      "source": [
        "\n",
        "\n",
        "1.   Write a function called calculate_area that takes base and height as an input and returns and area of a triangle.\n",
        "\n"
      ],
      "metadata": {
        "id": "ZyU__zbDxtBd"
      }
    },
    {
      "cell_type": "code",
      "source": [
        "def calculate_area(base,height):\n",
        "  area = 0.5*base*height\n",
        "  return area\n",
        "\n",
        "base= float(input(\"Base of triangle:\"))\n",
        "height= float(input(\"Height of triangle\"))\n",
        "tng_area = calculate_area(base,height)\n",
        "print(f\"Area of triangle: {tng_area}\")"
      ],
      "metadata": {
        "colab": {
          "base_uri": "https://localhost:8080/"
        },
        "id": "wUr7gi-wx82S",
        "outputId": "172b8cdb-ec90-4c6c-c7bf-aefdf4af45ce"
      },
      "execution_count": null,
      "outputs": [
        {
          "output_type": "stream",
          "name": "stdout",
          "text": [
            "Base of triangle:2.4\n",
            "Height of triangle3.5\n",
            "Area of triangle: 4.2\n"
          ]
        }
      ]
    },
    {
      "cell_type": "markdown",
      "source": [
        "\n",
        "\n",
        "\n",
        "2.   Modify above function to take third parameter shape type. It can be either \"triangle\" or \"rectangle\". Based on shape type it will calculate area.\n",
        "\n",
        "\n",
        "\n",
        "\n"
      ],
      "metadata": {
        "id": "izby7bJd1KgE"
      }
    },
    {
      "cell_type": "code",
      "source": [
        "def rect_area(length,width):\n",
        "  area=length*width\n",
        "  return area\n",
        "\n",
        "def trig_area(base,height):\n",
        "  area = 0.5*base*height\n",
        "  return area\n",
        "shape_type= str(input(\"Enter the shape name\"))\n",
        "shape_type.title()\n",
        "if (shape_type==\"Rectangle\"):\n",
        "  length= float(input(\"Enter the length:\"))\n",
        "  width= float(input(\"Enter the width:\"))\n",
        "  n= rect_area(length,width)\n",
        "  print(f\"Area of rectangle:{n}\")\n",
        "\n",
        "\n",
        "elif(shape_type==\"Triangle\"):\n",
        "  base= float(input(\"Enter the base:\"))\n",
        "  height= float(input(\"Enter the height:\"))\n",
        "  n= trig_area(base,height)\n",
        "  print(f\"Area of triangle:{n}\")\n",
        "\n",
        "else:\n",
        "  print(\"Not an ideal shape\")"
      ],
      "metadata": {
        "colab": {
          "base_uri": "https://localhost:8080/"
        },
        "id": "6-bkvVKz1Wv6",
        "outputId": "04cd4fed-50b4-4345-cabc-cacd0b684446"
      },
      "execution_count": null,
      "outputs": [
        {
          "output_type": "stream",
          "name": "stdout",
          "text": [
            "Enter the shape nameTriangle\n",
            "Enter the base:2.3\n",
            "Enter the height:5.6\n",
            "Area of triangle:6.4399999999999995\n"
          ]
        }
      ]
    },
    {
      "cell_type": "markdown",
      "source": [
        "3. Write a function called print_pattern that takes integer number as an argument and prints following pattern equal to the number of rows.\n",
        "\n",
        "\n",
        "\n"
      ],
      "metadata": {
        "id": "pN-mnEVO7Fgk"
      }
    },
    {
      "cell_type": "code",
      "source": [
        "rows=int(input(\"Number of rows:\"))\n",
        "for i in range(rows+1):\n",
        "   print(\"*\"*i)\n",
        "\n"
      ],
      "metadata": {
        "colab": {
          "base_uri": "https://localhost:8080/"
        },
        "id": "9yoGJ_B67T32",
        "outputId": "483b8005-a34f-40be-c4e2-c1358839e549"
      },
      "execution_count": null,
      "outputs": [
        {
          "output_type": "stream",
          "name": "stdout",
          "text": [
            "Number of rows:5\n",
            "\n",
            "*\n",
            "**\n",
            "***\n",
            "****\n",
            "*****\n"
          ]
        }
      ]
    },
    {
      "cell_type": "markdown",
      "source": [],
      "metadata": {
        "id": "A5xo9HyzC7lA"
      }
    },
    {
      "cell_type": "markdown",
      "source": [
        "# Exercise: Python Dict and Tuples"
      ],
      "metadata": {
        "id": "cNv2gQdVLQzR"
      }
    },
    {
      "cell_type": "markdown",
      "source": [
        "\n",
        "\n",
        "1.   We have following information on countries and their population (population is in crores),\n",
        "\n",
        "Country\t Population\n",
        "\n",
        "China\t      143\n",
        "\n",
        "India\t      136\n",
        "\n",
        "USA\t        32\n",
        "\n",
        "Pakistan\t  21\n",
        "\n",
        "Using above create a dictionary of countries and its population\n",
        "Write a program that asks user for three type of inputs,\n",
        "print: if user enter print then it should print all countries with their population\n",
        "\n",
        "\n",
        "2.   add: if user input add then it should further ask for a country name to add. If country already exist in our dataset then it should print that it exist and do nothing. If it doesn't then it asks for population and add that new country/population in our dictionary and print it.\n",
        "\n",
        "3. remove: when user inputs remove it should ask for a country to remove. If country exist in our dictionary then remove it and print new dictionary using format shown above in (a). Else print that country doesn't exist!\n",
        "\n",
        "4. query: on this again ask user for which country he or she wants to query. When user inputs that country it will print population of that country.\n",
        "\n",
        "\n"
      ],
      "metadata": {
        "id": "JsUjP236LTky"
      }
    },
    {
      "cell_type": "code",
      "source": [
        "pop={'china':143,'india':136,'usa':32,'pakistan':21}\n",
        "def main():\n",
        "  n=int(input(\"\"\"Enter the respective number for following operations:\n",
        "  0. Query the population of Country\n",
        "  1. Add population of a new Country\n",
        "  2. Remove information of a country\"\"\"))\n",
        "  if (n==0):\n",
        "    query()\n",
        "  elif (n==1):\n",
        "    add()\n",
        "  elif(n==2):\n",
        "    remove()\n",
        "  else:\n",
        "    print(\"wrong command\")\n",
        "\n",
        "\n",
        "\n",
        "def query():\n",
        "  country=str(input(\"Enter the country name\"))\n",
        "  country=country.lower()\n",
        "  if country not in pop:\n",
        "    print(\"The country does not exists in the record.\")\n",
        "  else:\n",
        "    print(f\"{country} has a poulation of {pop[country]}\")\n",
        "\n",
        "\n",
        "def add():\n",
        "  country=str(input(\"Enter the country name\"))\n",
        "  country=country.lower()\n",
        "  if country not in pop:\n",
        "    p=int(input(f\"Enter population for {country}:\"))\n",
        "    pop[country]=p\n",
        "    print_pop()\n",
        "  else:\n",
        "    print(\"The country already exists in the record\")\n",
        "\n",
        "def remove():\n",
        "  country=str(input(\"Enter the country name: \\n\"))\n",
        "  country=country.lower()\n",
        "  if country not in pop:\n",
        "    print(\"The country does not exists in the record.\")\n",
        "  else:\n",
        "    del pop[country]\n",
        "    print_pop()\n",
        "\n",
        "def print_pop():\n",
        "  for country, p in pop.items():\n",
        "    print(f\"{country} :  {p}\")\n",
        "\n",
        "if __name__ == '__main__':\n",
        "    main()\n"
      ],
      "metadata": {
        "colab": {
          "base_uri": "https://localhost:8080/"
        },
        "id": "RtvcB-_qMXb8",
        "outputId": "ca517b23-1c90-4691-9dd9-fdbb008020c3"
      },
      "execution_count": 42,
      "outputs": [
        {
          "output_type": "stream",
          "name": "stdout",
          "text": [
            "Enter the respective number for following operations:\n",
            "  0. Query the population of Country\n",
            "  1. Add population of a new Country\n",
            "  2. Remove information of a country2\n",
            "Enter the country name: \n",
            "china\n",
            "india :  136\n",
            "usa :  32\n",
            "pakistan :  21\n"
          ]
        }
      ]
    }
  ]
}