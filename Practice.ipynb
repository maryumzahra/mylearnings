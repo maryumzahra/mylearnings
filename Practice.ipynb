{
  "nbformat": 4,
  "nbformat_minor": 0,
  "metadata": {
    "colab": {
      "provenance": [],
      "authorship_tag": "ABX9TyNZHbV+ycioSNw8bYdl8dCv",
      "include_colab_link": true
    },
    "kernelspec": {
      "name": "python3",
      "display_name": "Python 3"
    },
    "language_info": {
      "name": "python"
    }
  },
  "cells": [
    {
      "cell_type": "markdown",
      "metadata": {
        "id": "view-in-github",
        "colab_type": "text"
      },
      "source": [
        "<a href=\"https://colab.research.google.com/github/maryumzahra/mylearnings/blob/main/Practice.ipynb\" target=\"_parent\"><img src=\"https://colab.research.google.com/assets/colab-badge.svg\" alt=\"Open In Colab\"/></a>"
      ]
    },
    {
      "cell_type": "markdown",
      "source": [
        "# Exercise: Functions in python"
      ],
      "metadata": {
        "id": "UnsG5L5Wxi0P"
      }
    },
    {
      "cell_type": "markdown",
      "source": [
        "\n",
        "\n",
        "1.   Write a function called calculate_area that takes base and height as an input and returns and area of a triangle.\n",
        "\n"
      ],
      "metadata": {
        "id": "ZyU__zbDxtBd"
      }
    },
    {
      "cell_type": "code",
      "source": [
        "def calculate_area(base,height):\n",
        "  area = 0.5*base*height\n",
        "  return area\n",
        "\n",
        "base= float(input(\"Base of triangle:\"))\n",
        "height= float(input(\"Height of triangle\"))\n",
        "tng_area = calculate_area(base,height)\n",
        "print(f\"Area of triangle: {tng_area}\")"
      ],
      "metadata": {
        "colab": {
          "base_uri": "https://localhost:8080/"
        },
        "id": "wUr7gi-wx82S",
        "outputId": "172b8cdb-ec90-4c6c-c7bf-aefdf4af45ce"
      },
      "execution_count": null,
      "outputs": [
        {
          "output_type": "stream",
          "name": "stdout",
          "text": [
            "Base of triangle:2.4\n",
            "Height of triangle3.5\n",
            "Area of triangle: 4.2\n"
          ]
        }
      ]
    },
    {
      "cell_type": "markdown",
      "source": [
        "\n",
        "\n",
        "\n",
        "2.   Modify above function to take third parameter shape type. It can be either \"triangle\" or \"rectangle\". Based on shape type it will calculate area.\n",
        "\n",
        "\n",
        "\n",
        "\n"
      ],
      "metadata": {
        "id": "izby7bJd1KgE"
      }
    },
    {
      "cell_type": "code",
      "source": [
        "def rect_area(length,width):\n",
        "  area=length*width\n",
        "  return area\n",
        "\n",
        "def trig_area(base,height):\n",
        "  area = 0.5*base*height\n",
        "  return area\n",
        "shape_type= str(input(\"Enter the shape name\"))\n",
        "shape_type.title()\n",
        "if (shape_type==\"Rectangle\"):\n",
        "  length= float(input(\"Enter the length:\"))\n",
        "  width= float(input(\"Enter the width:\"))\n",
        "  n= rect_area(length,width)\n",
        "  print(f\"Area of rectangle:{n}\")\n",
        "\n",
        "\n",
        "elif(shape_type==\"Triangle\"):\n",
        "  base= float(input(\"Enter the base:\"))\n",
        "  height= float(input(\"Enter the height:\"))\n",
        "  n= trig_area(base,height)\n",
        "  print(f\"Area of triangle:{n}\")\n",
        "\n",
        "else:\n",
        "  print(\"Not an ideal shape\")"
      ],
      "metadata": {
        "colab": {
          "base_uri": "https://localhost:8080/"
        },
        "id": "6-bkvVKz1Wv6",
        "outputId": "04cd4fed-50b4-4345-cabc-cacd0b684446"
      },
      "execution_count": null,
      "outputs": [
        {
          "output_type": "stream",
          "name": "stdout",
          "text": [
            "Enter the shape nameTriangle\n",
            "Enter the base:2.3\n",
            "Enter the height:5.6\n",
            "Area of triangle:6.4399999999999995\n"
          ]
        }
      ]
    },
    {
      "cell_type": "markdown",
      "source": [
        "3. Write a function called print_pattern that takes integer number as an argument and prints following pattern equal to the number of rows.\n",
        "\n",
        "\n",
        "\n"
      ],
      "metadata": {
        "id": "pN-mnEVO7Fgk"
      }
    },
    {
      "cell_type": "code",
      "source": [
        "rows=int(input(\"Number of rows:\"))\n",
        "for i in range(rows+1):\n",
        "   print(\"*\"*i)\n",
        "\n"
      ],
      "metadata": {
        "colab": {
          "base_uri": "https://localhost:8080/"
        },
        "id": "9yoGJ_B67T32",
        "outputId": "483b8005-a34f-40be-c4e2-c1358839e549"
      },
      "execution_count": null,
      "outputs": [
        {
          "output_type": "stream",
          "name": "stdout",
          "text": [
            "Number of rows:5\n",
            "\n",
            "*\n",
            "**\n",
            "***\n",
            "****\n",
            "*****\n"
          ]
        }
      ]
    },
    {
      "cell_type": "markdown",
      "source": [],
      "metadata": {
        "id": "A5xo9HyzC7lA"
      }
    },
    {
      "cell_type": "markdown",
      "source": [
        "# Exercise: Python Dict and Tuples"
      ],
      "metadata": {
        "id": "cNv2gQdVLQzR"
      }
    },
    {
      "cell_type": "markdown",
      "source": [
        "\n",
        "\n",
        "1.   We have following information on countries and their population (population is in crores),\n",
        "\n",
        "Country\t Population\n",
        "\n",
        "China\t      143\n",
        "\n",
        "India\t      136\n",
        "\n",
        "USA\t        32\n",
        "\n",
        "Pakistan\t  21\n",
        "\n",
        "Using above create a dictionary of countries and its population\n",
        "Write a program that asks user for three type of inputs,\n",
        "print: if user enter print then it should print all countries with their population\n",
        "\n",
        "\n",
        "2.   add: if user input add then it should further ask for a country name to add. If country already exist in our dataset then it should print that it exist and do nothing. If it doesn't then it asks for population and add that new country/population in our dictionary and print it.\n",
        "\n",
        "3. remove: when user inputs remove it should ask for a country to remove. If country exist in our dictionary then remove it and print new dictionary using format shown above in (a). Else print that country doesn't exist!\n",
        "\n",
        "4. query: on this again ask user for which country he or she wants to query. When user inputs that country it will print population of that country.\n",
        "\n",
        "\n"
      ],
      "metadata": {
        "id": "JsUjP236LTky"
      }
    },
    {
      "cell_type": "code",
      "source": [
        "pop={'china':143,'india':136,'usa':32,'pakistan':21}\n",
        "def main():\n",
        "  n=int(input(\"\"\"Enter the respective number for following operations:\n",
        "  0. Query the population of Country\n",
        "  1. Add population of a new Country\n",
        "  2. Remove information of a country \\n\"\"\"))\n",
        "  if (n==0):\n",
        "    query()\n",
        "  elif (n==1):\n",
        "    add()\n",
        "  elif(n==2):\n",
        "    remove()\n",
        "  else:\n",
        "    print(\"wrong command\")\n",
        "\n",
        "\n",
        "\n",
        "def query():\n",
        "  country=str(input(\"Enter the country name:   \"))\n",
        "  country=country.lower()\n",
        "  if country not in pop:\n",
        "    print(\"The country does not exists in the record.\")\n",
        "  else:\n",
        "    print(f\"{country} has a population of {pop[country]} crore\")\n",
        "  main()\n",
        "\n",
        "\n",
        "def add():\n",
        "  country=str(input(\"Enter the country name\"))\n",
        "  country=country.lower()\n",
        "  if country not in pop:\n",
        "    p=int(input(f\"Enter population for {country}:\"))\n",
        "    pop[country]=p\n",
        "    print_pop()\n",
        "  else:\n",
        "    print(\"The country already exists in the record\\n\\n\\n\")\n",
        "  main()\n",
        "\n",
        "def remove():\n",
        "  country=str(input(\"Enter the country name: \\n\"))\n",
        "  country=country.lower()\n",
        "  if country not in pop:\n",
        "    print(\"The country does not exists in the record.\\n\\n\\n\")\n",
        "  else:\n",
        "    del pop[country]\n",
        "    print_pop()\n",
        "  main()\n",
        "\n",
        "def print_pop():\n",
        "  for country, p in pop.items():\n",
        "    print(f\"{country} :  {p}\")\n",
        "\n",
        "if __name__ == '__main__':\n",
        "    main()\n"
      ],
      "metadata": {
        "colab": {
          "base_uri": "https://localhost:8080/",
          "height": 435
        },
        "id": "RtvcB-_qMXb8",
        "outputId": "613ec881-f293-4283-9440-6de762fedf27"
      },
      "execution_count": 8,
      "outputs": [
        {
          "output_type": "stream",
          "name": "stdout",
          "text": [
            "Enter the respective number for following operations:\n",
            "  0. Query the population of Country\n",
            "  1. Add population of a new Country\n",
            "  2. Remove information of a country \n",
            "0\n",
            "Enter the country name:   pakistan\n",
            "pakistan has a population of 21 crore\n"
          ]
        },
        {
          "output_type": "error",
          "ename": "KeyboardInterrupt",
          "evalue": "Interrupted by user",
          "traceback": [
            "\u001b[0;31m---------------------------------------------------------------------------\u001b[0m",
            "\u001b[0;31mKeyboardInterrupt\u001b[0m                         Traceback (most recent call last)",
            "\u001b[0;32m<ipython-input-8-b47206fc4ea2>\u001b[0m in \u001b[0;36m<cell line: 53>\u001b[0;34m()\u001b[0m\n\u001b[1;32m     52\u001b[0m \u001b[0;34m\u001b[0m\u001b[0m\n\u001b[1;32m     53\u001b[0m \u001b[0;32mif\u001b[0m \u001b[0m__name__\u001b[0m \u001b[0;34m==\u001b[0m \u001b[0;34m'__main__'\u001b[0m\u001b[0;34m:\u001b[0m\u001b[0;34m\u001b[0m\u001b[0;34m\u001b[0m\u001b[0m\n\u001b[0;32m---> 54\u001b[0;31m     \u001b[0mmain\u001b[0m\u001b[0;34m(\u001b[0m\u001b[0;34m)\u001b[0m\u001b[0;34m\u001b[0m\u001b[0;34m\u001b[0m\u001b[0m\n\u001b[0m",
            "\u001b[0;32m<ipython-input-8-b47206fc4ea2>\u001b[0m in \u001b[0;36mmain\u001b[0;34m()\u001b[0m\n\u001b[1;32m      6\u001b[0m   2. Remove information of a country \\n\"\"\"))\n\u001b[1;32m      7\u001b[0m   \u001b[0;32mif\u001b[0m \u001b[0;34m(\u001b[0m\u001b[0mn\u001b[0m\u001b[0;34m==\u001b[0m\u001b[0;36m0\u001b[0m\u001b[0;34m)\u001b[0m\u001b[0;34m:\u001b[0m\u001b[0;34m\u001b[0m\u001b[0;34m\u001b[0m\u001b[0m\n\u001b[0;32m----> 8\u001b[0;31m     \u001b[0mquery\u001b[0m\u001b[0;34m(\u001b[0m\u001b[0;34m)\u001b[0m\u001b[0;34m\u001b[0m\u001b[0;34m\u001b[0m\u001b[0m\n\u001b[0m\u001b[1;32m      9\u001b[0m   \u001b[0;32melif\u001b[0m \u001b[0;34m(\u001b[0m\u001b[0mn\u001b[0m\u001b[0;34m==\u001b[0m\u001b[0;36m1\u001b[0m\u001b[0;34m)\u001b[0m\u001b[0;34m:\u001b[0m\u001b[0;34m\u001b[0m\u001b[0;34m\u001b[0m\u001b[0m\n\u001b[1;32m     10\u001b[0m     \u001b[0madd\u001b[0m\u001b[0;34m(\u001b[0m\u001b[0;34m)\u001b[0m\u001b[0;34m\u001b[0m\u001b[0;34m\u001b[0m\u001b[0m\n",
            "\u001b[0;32m<ipython-input-8-b47206fc4ea2>\u001b[0m in \u001b[0;36mquery\u001b[0;34m()\u001b[0m\n\u001b[1;32m     23\u001b[0m   \u001b[0;32melse\u001b[0m\u001b[0;34m:\u001b[0m\u001b[0;34m\u001b[0m\u001b[0;34m\u001b[0m\u001b[0m\n\u001b[1;32m     24\u001b[0m     \u001b[0mprint\u001b[0m\u001b[0;34m(\u001b[0m\u001b[0;34mf\"{country} has a population of {pop[country]} crore\"\u001b[0m\u001b[0;34m)\u001b[0m\u001b[0;34m\u001b[0m\u001b[0;34m\u001b[0m\u001b[0m\n\u001b[0;32m---> 25\u001b[0;31m   \u001b[0mmain\u001b[0m\u001b[0;34m(\u001b[0m\u001b[0;34m)\u001b[0m\u001b[0;34m\u001b[0m\u001b[0;34m\u001b[0m\u001b[0m\n\u001b[0m\u001b[1;32m     26\u001b[0m \u001b[0;34m\u001b[0m\u001b[0m\n\u001b[1;32m     27\u001b[0m \u001b[0;34m\u001b[0m\u001b[0m\n",
            "\u001b[0;32m<ipython-input-8-b47206fc4ea2>\u001b[0m in \u001b[0;36mmain\u001b[0;34m()\u001b[0m\n\u001b[1;32m      1\u001b[0m \u001b[0mpop\u001b[0m\u001b[0;34m=\u001b[0m\u001b[0;34m{\u001b[0m\u001b[0;34m'china'\u001b[0m\u001b[0;34m:\u001b[0m\u001b[0;36m143\u001b[0m\u001b[0;34m,\u001b[0m\u001b[0;34m'india'\u001b[0m\u001b[0;34m:\u001b[0m\u001b[0;36m136\u001b[0m\u001b[0;34m,\u001b[0m\u001b[0;34m'usa'\u001b[0m\u001b[0;34m:\u001b[0m\u001b[0;36m32\u001b[0m\u001b[0;34m,\u001b[0m\u001b[0;34m'pakistan'\u001b[0m\u001b[0;34m:\u001b[0m\u001b[0;36m21\u001b[0m\u001b[0;34m}\u001b[0m\u001b[0;34m\u001b[0m\u001b[0;34m\u001b[0m\u001b[0m\n\u001b[1;32m      2\u001b[0m \u001b[0;32mdef\u001b[0m \u001b[0mmain\u001b[0m\u001b[0;34m(\u001b[0m\u001b[0;34m)\u001b[0m\u001b[0;34m:\u001b[0m\u001b[0;34m\u001b[0m\u001b[0;34m\u001b[0m\u001b[0m\n\u001b[0;32m----> 3\u001b[0;31m   n=int(input(\"\"\"Enter the respective number for following operations:\n\u001b[0m\u001b[1;32m      4\u001b[0m   \u001b[0;36m0.\u001b[0m \u001b[0mQuery\u001b[0m \u001b[0mthe\u001b[0m \u001b[0mpopulation\u001b[0m \u001b[0mof\u001b[0m \u001b[0mCountry\u001b[0m\u001b[0;34m\u001b[0m\u001b[0;34m\u001b[0m\u001b[0m\n\u001b[1;32m      5\u001b[0m   \u001b[0;36m1.\u001b[0m \u001b[0mAdd\u001b[0m \u001b[0mpopulation\u001b[0m \u001b[0mof\u001b[0m \u001b[0ma\u001b[0m \u001b[0mnew\u001b[0m \u001b[0mCountry\u001b[0m\u001b[0;34m\u001b[0m\u001b[0;34m\u001b[0m\u001b[0m\n",
            "\u001b[0;32m/usr/local/lib/python3.10/dist-packages/ipykernel/kernelbase.py\u001b[0m in \u001b[0;36mraw_input\u001b[0;34m(self, prompt)\u001b[0m\n\u001b[1;32m    849\u001b[0m                 \u001b[0;34m\"raw_input was called, but this frontend does not support input requests.\"\u001b[0m\u001b[0;34m\u001b[0m\u001b[0;34m\u001b[0m\u001b[0m\n\u001b[1;32m    850\u001b[0m             )\n\u001b[0;32m--> 851\u001b[0;31m         return self._input_request(str(prompt),\n\u001b[0m\u001b[1;32m    852\u001b[0m             \u001b[0mself\u001b[0m\u001b[0;34m.\u001b[0m\u001b[0m_parent_ident\u001b[0m\u001b[0;34m,\u001b[0m\u001b[0;34m\u001b[0m\u001b[0;34m\u001b[0m\u001b[0m\n\u001b[1;32m    853\u001b[0m             \u001b[0mself\u001b[0m\u001b[0;34m.\u001b[0m\u001b[0m_parent_header\u001b[0m\u001b[0;34m,\u001b[0m\u001b[0;34m\u001b[0m\u001b[0;34m\u001b[0m\u001b[0m\n",
            "\u001b[0;32m/usr/local/lib/python3.10/dist-packages/ipykernel/kernelbase.py\u001b[0m in \u001b[0;36m_input_request\u001b[0;34m(self, prompt, ident, parent, password)\u001b[0m\n\u001b[1;32m    893\u001b[0m             \u001b[0;32mexcept\u001b[0m \u001b[0mKeyboardInterrupt\u001b[0m\u001b[0;34m:\u001b[0m\u001b[0;34m\u001b[0m\u001b[0;34m\u001b[0m\u001b[0m\n\u001b[1;32m    894\u001b[0m                 \u001b[0;31m# re-raise KeyboardInterrupt, to truncate traceback\u001b[0m\u001b[0;34m\u001b[0m\u001b[0;34m\u001b[0m\u001b[0m\n\u001b[0;32m--> 895\u001b[0;31m                 \u001b[0;32mraise\u001b[0m \u001b[0mKeyboardInterrupt\u001b[0m\u001b[0;34m(\u001b[0m\u001b[0;34m\"Interrupted by user\"\u001b[0m\u001b[0;34m)\u001b[0m \u001b[0;32mfrom\u001b[0m \u001b[0;32mNone\u001b[0m\u001b[0;34m\u001b[0m\u001b[0;34m\u001b[0m\u001b[0m\n\u001b[0m\u001b[1;32m    896\u001b[0m             \u001b[0;32mexcept\u001b[0m \u001b[0mException\u001b[0m \u001b[0;32mas\u001b[0m \u001b[0me\u001b[0m\u001b[0;34m:\u001b[0m\u001b[0;34m\u001b[0m\u001b[0;34m\u001b[0m\u001b[0m\n\u001b[1;32m    897\u001b[0m                 \u001b[0mself\u001b[0m\u001b[0;34m.\u001b[0m\u001b[0mlog\u001b[0m\u001b[0;34m.\u001b[0m\u001b[0mwarning\u001b[0m\u001b[0;34m(\u001b[0m\u001b[0;34m\"Invalid Message:\"\u001b[0m\u001b[0;34m,\u001b[0m \u001b[0mexc_info\u001b[0m\u001b[0;34m=\u001b[0m\u001b[0;32mTrue\u001b[0m\u001b[0;34m)\u001b[0m\u001b[0;34m\u001b[0m\u001b[0;34m\u001b[0m\u001b[0m\n",
            "\u001b[0;31mKeyboardInterrupt\u001b[0m: Interrupted by user"
          ]
        }
      ]
    },
    {
      "cell_type": "markdown",
      "source": [
        "2. You are given following list of stocks and their prices in last 3 days,\n",
        "\n",
        "Stock \tPrices\n",
        "\n",
        "info\t[600,630,620]\n",
        "\n",
        "ril\t  [1430,1490,1567]\n",
        "\n",
        "mtl\t   [234,180,160]\n",
        "\n",
        "Write a program that asks user for operation. Value of operations could be;\n",
        "\n",
        "**a. print:** When user enters print it should print following,\n",
        "\n",
        "info ==> [600, 630, 620] ==> avg:  616.67\n",
        "\n",
        "ril ==> [1430, 1490, 1567] ==> avg:  1495.67\n",
        "\n",
        "mtl ==> [234, 180, 160] ==> avg:  191.33\n",
        "\n",
        "\n",
        "**b. add:** When user enters 'add', it asks for stock ticker and price. If stock already exist in your list (like info, ril etc) then it will append the price to the list. Otherwise it will create new entry in your dictionary. For example entering 'tata' and 560 will add tata ==> [560] to the dictionary of stocks.\n",
        "\n"
      ],
      "metadata": {
        "id": "uGTHpwodp7MT"
      }
    },
    {
      "cell_type": "code",
      "source": [
        "stock={}\n",
        "stock['info']=[600,630,620]\n",
        "stock['ril']=[1430,1490,1567]\n",
        "stock['mtl']=[234,180,160]\n",
        "print(stock)"
      ],
      "metadata": {
        "colab": {
          "base_uri": "https://localhost:8080/"
        },
        "id": "djwZKTDnpyw9",
        "outputId": "dbe0f2e6-2ebc-4647-a5f2-ce173e0b8430"
      },
      "execution_count": 1,
      "outputs": [
        {
          "output_type": "stream",
          "name": "stdout",
          "text": [
            "{'info': [600, 630, 620], 'ril': [1430, 1490, 1567], 'mtl': [234, 180, 160]}\n"
          ]
        }
      ]
    },
    {
      "cell_type": "code",
      "source": [
        "name= str(input('Stock name:  '))\n",
        "if name in stock:\n",
        "  num=int(input('How many values to enter?  '))\n",
        "  print()\n",
        "  print(\"Enter values:\\n\")\n",
        "  for i in range(num):\n",
        "    value=int(input(f\"{i+1}.\"))\n",
        "    print()\n",
        "    stock[name].append(value)\n",
        "\n",
        "else:\n",
        "  my_list=[]\n",
        "  num=int(input('How many values to enter?  '))\n",
        "  print()\n",
        "  for i in range(num):\n",
        "    print(\"Enter values:\\n\")\n",
        "    value=int(input(f\"{i+1}.\"))\n",
        "    my_list.append(value)\n",
        "    print()\n",
        "\n",
        "\n",
        "\n"
      ],
      "metadata": {
        "colab": {
          "base_uri": "https://localhost:8080/"
        },
        "id": "BwQroNTVsCRj",
        "outputId": "d4f7bed1-2f8a-48ba-cc80-17ecb961ec44"
      },
      "execution_count": 12,
      "outputs": [
        {
          "output_type": "stream",
          "name": "stdout",
          "text": [
            "Stock name:  nil\n",
            "How many values to enter?  2\n",
            "\n",
            "Enter values:\n",
            "\n",
            "0.190\n",
            "\n",
            "Enter values:\n",
            "\n",
            "1.210\n",
            "\n"
          ]
        }
      ]
    },
    {
      "cell_type": "markdown",
      "source": [
        "3. Write circle_calc() function that takes radius of a circle as an input from user and then it calculates and returns area, circumference and diameter. You should get these values in your main program by calling circle_calc function and then print them"
      ],
      "metadata": {
        "id": "pDQLdmutzTwY"
      }
    },
    {
      "cell_type": "code",
      "source": [
        "import math\n",
        "def circle_cal(a):\n",
        "  area = math.pi*a**2\n",
        "  circumference = 2*math.pi*a\n",
        "  print(f\"Area: {area} \\nCircumference: {circumference}\")\n",
        "\n",
        "def main():\n",
        "  radius= float(input(\"Radius:  \"))\n",
        "  circle_cal(radius)\n",
        "\n",
        "if __name__ == '__main__':\n",
        "  main()\n"
      ],
      "metadata": {
        "colab": {
          "base_uri": "https://localhost:8080/"
        },
        "id": "depWXJbrzXzY",
        "outputId": "0c617338-4ecf-4d12-d5a2-bf016465375f"
      },
      "execution_count": 15,
      "outputs": [
        {
          "output_type": "stream",
          "name": "stdout",
          "text": [
            "Radius:  2.3\n",
            "Area: 16.619025137490002 \n",
            "Circumference: 14.451326206513047\n"
          ]
        }
      ]
    }
  ]
}