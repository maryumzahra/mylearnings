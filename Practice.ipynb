{
  "nbformat": 4,
  "nbformat_minor": 0,
  "metadata": {
    "colab": {
      "provenance": [],
      "authorship_tag": "ABX9TyPzRUFMCk346eYvzBPyDIox",
      "include_colab_link": true
    },
    "kernelspec": {
      "name": "python3",
      "display_name": "Python 3"
    },
    "language_info": {
      "name": "python"
    }
  },
  "cells": [
    {
      "cell_type": "markdown",
      "metadata": {
        "id": "view-in-github",
        "colab_type": "text"
      },
      "source": [
        "<a href=\"https://colab.research.google.com/github/maryumzahra/mylearnings/blob/main/Practice.ipynb\" target=\"_parent\"><img src=\"https://colab.research.google.com/assets/colab-badge.svg\" alt=\"Open In Colab\"/></a>"
      ]
    },
    {
      "cell_type": "markdown",
      "source": [
        "# Exercise: Functions in python"
      ],
      "metadata": {
        "id": "UnsG5L5Wxi0P"
      }
    },
    {
      "cell_type": "markdown",
      "source": [
        "\n",
        "\n",
        "1.   Write a function called calculate_area that takes base and height as an input and returns and area of a triangle.\n",
        "\n"
      ],
      "metadata": {
        "id": "ZyU__zbDxtBd"
      }
    },
    {
      "cell_type": "code",
      "source": [
        "def calculate_area(base,height):\n",
        "  area = 0.5*base*height\n",
        "  return area\n",
        "\n",
        "base= float(input(\"Base of triangle:\"))\n",
        "height= float(input(\"Height of triangle\"))\n",
        "tng_area = calculate_area(base,height)\n",
        "print(f\"Area of triangle: {tng_area}\")"
      ],
      "metadata": {
        "colab": {
          "base_uri": "https://localhost:8080/"
        },
        "id": "wUr7gi-wx82S",
        "outputId": "172b8cdb-ec90-4c6c-c7bf-aefdf4af45ce"
      },
      "execution_count": null,
      "outputs": [
        {
          "output_type": "stream",
          "name": "stdout",
          "text": [
            "Base of triangle:2.4\n",
            "Height of triangle3.5\n",
            "Area of triangle: 4.2\n"
          ]
        }
      ]
    },
    {
      "cell_type": "markdown",
      "source": [
        "\n",
        "\n",
        "\n",
        "2.   Modify above function to take third parameter shape type. It can be either \"triangle\" or \"rectangle\". Based on shape type it will calculate area.\n",
        "\n",
        "\n",
        "\n",
        "\n"
      ],
      "metadata": {
        "id": "izby7bJd1KgE"
      }
    },
    {
      "cell_type": "code",
      "source": [
        "def rect_area(length,width):\n",
        "  area=length*width\n",
        "  return area\n",
        "\n",
        "def trig_area(base,height):\n",
        "  area = 0.5*base*height\n",
        "  return area\n",
        "shape_type= str(input(\"Enter the shape name\"))\n",
        "shape_type.title()\n",
        "if (shape_type==\"Rectangle\"):\n",
        "  length= float(input(\"Enter the length:\"))\n",
        "  width= float(input(\"Enter the width:\"))\n",
        "  n= rect_area(length,width)\n",
        "  print(f\"Area of rectangle:{n}\")\n",
        "\n",
        "\n",
        "elif(shape_type==\"Triangle\"):\n",
        "  base= float(input(\"Enter the base:\"))\n",
        "  height= float(input(\"Enter the height:\"))\n",
        "  n= trig_area(base,height)\n",
        "  print(f\"Area of triangle:{n}\")\n",
        "\n",
        "else:\n",
        "  print(\"Not an ideal shape\")"
      ],
      "metadata": {
        "colab": {
          "base_uri": "https://localhost:8080/"
        },
        "id": "6-bkvVKz1Wv6",
        "outputId": "04cd4fed-50b4-4345-cabc-cacd0b684446"
      },
      "execution_count": null,
      "outputs": [
        {
          "output_type": "stream",
          "name": "stdout",
          "text": [
            "Enter the shape nameTriangle\n",
            "Enter the base:2.3\n",
            "Enter the height:5.6\n",
            "Area of triangle:6.4399999999999995\n"
          ]
        }
      ]
    },
    {
      "cell_type": "markdown",
      "source": [
        "3. Write a function called print_pattern that takes integer number as an argument and prints following pattern equal to the number of rows.\n",
        "\n",
        "\n",
        "\n"
      ],
      "metadata": {
        "id": "pN-mnEVO7Fgk"
      }
    },
    {
      "cell_type": "code",
      "source": [
        "rows=int(input(\"Number of rows:\"))\n",
        "for i in range(rows+1):\n",
        "   print(\"*\"*i)\n",
        "\n"
      ],
      "metadata": {
        "colab": {
          "base_uri": "https://localhost:8080/"
        },
        "id": "9yoGJ_B67T32",
        "outputId": "483b8005-a34f-40be-c4e2-c1358839e549"
      },
      "execution_count": null,
      "outputs": [
        {
          "output_type": "stream",
          "name": "stdout",
          "text": [
            "Number of rows:5\n",
            "\n",
            "*\n",
            "**\n",
            "***\n",
            "****\n",
            "*****\n"
          ]
        }
      ]
    },
    {
      "cell_type": "markdown",
      "source": [],
      "metadata": {
        "id": "A5xo9HyzC7lA"
      }
    },
    {
      "cell_type": "markdown",
      "source": [
        "# Exercise: Python Dict and Tuples"
      ],
      "metadata": {
        "id": "cNv2gQdVLQzR"
      }
    },
    {
      "cell_type": "markdown",
      "source": [
        "\n",
        "\n",
        "1.   We have following information on countries and their population (population is in crores),\n",
        "\n",
        "Country\t Population\n",
        "\n",
        "China\t      143\n",
        "\n",
        "India\t      136\n",
        "\n",
        "USA\t        32\n",
        "\n",
        "Pakistan\t  21\n",
        "\n",
        "Using above create a dictionary of countries and its population\n",
        "Write a program that asks user for three type of inputs,\n",
        "print: if user enter print then it should print all countries with their population\n",
        "\n",
        "\n",
        "2.   add: if user input add then it should further ask for a country name to add. If country already exist in our dataset then it should print that it exist and do nothing. If it doesn't then it asks for population and add that new country/population in our dictionary and print it.\n",
        "\n",
        "3. remove: when user inputs remove it should ask for a country to remove. If country exist in our dictionary then remove it and print new dictionary using format shown above in (a). Else print that country doesn't exist!\n",
        "\n",
        "4. query: on this again ask user for which country he or she wants to query. When user inputs that country it will print population of that country.\n",
        "\n",
        "\n"
      ],
      "metadata": {
        "id": "JsUjP236LTky"
      }
    },
    {
      "cell_type": "code",
      "source": [
        "def menu():\n",
        "  n=int(input(\"\"\"Enter the respective number for following operations:\n",
        "  0. Query the population of Country\n",
        "  1. Add population of a new Country\n",
        "  2. Remove information of a country\"\"\"))\n",
        "  further=handle_case(n)\n",
        "\n",
        "def query():\n",
        "  country=str(input(\"Enter the country name\"))\n",
        "  result= country in pop\n",
        "\n",
        "\n",
        "def handle_case(value):\n",
        "    match value:\n",
        "        case 1:\n",
        "            return \"This is case 1\"\n",
        "        case 2:\n",
        "            return \"This is case 2\"\n",
        "        case 3:\n",
        "            return \"This is case 3\"\n",
        "        case _:\n",
        "            return \"This is the default case\"\n",
        "\n",
        "pop={'China':143,'India':136,'USA':32,'Pakistan':21}\n"
      ],
      "metadata": {
        "colab": {
          "base_uri": "https://localhost:8080/"
        },
        "id": "RtvcB-_qMXb8",
        "outputId": "2a03f999-f16e-40c7-b043-f98f1a00819f"
      },
      "execution_count": 31,
      "outputs": [
        {
          "output_type": "stream",
          "name": "stdout",
          "text": [
            "{'China': 143, 'India': 136, 'USA': 32, 'Pakistan': 21}\n"
          ]
        }
      ]
    },
    {
      "cell_type": "code",
      "source": [
        "pop={'China':143,'India':136,'USA':32,'Pakistan':21}\n",
        "country=str(input(\"Enter the country name\"))\n",
        "result= country in pop\n",
        "if(country==True):\n",
        "  print(\"ss\")\n",
        "else:\n",
        "  print(\"nn\")"
      ],
      "metadata": {
        "colab": {
          "base_uri": "https://localhost:8080/"
        },
        "id": "91OOxlj1PjTd",
        "outputId": "f3266473-4a90-4ccc-8b24-23b1e8b9e86a"
      },
      "execution_count": 35,
      "outputs": [
        {
          "output_type": "stream",
          "name": "stdout",
          "text": [
            "Enter the country namewest\n",
            "nn\n"
          ]
        }
      ]
    }
  ]
}