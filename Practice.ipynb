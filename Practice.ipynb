{
  "nbformat": 4,
  "nbformat_minor": 0,
  "metadata": {
    "colab": {
      "provenance": [],
      "authorship_tag": "ABX9TyOSkIu1/wJWcJUOWCoFE15/",
      "include_colab_link": true
    },
    "kernelspec": {
      "name": "python3",
      "display_name": "Python 3"
    },
    "language_info": {
      "name": "python"
    }
  },
  "cells": [
    {
      "cell_type": "markdown",
      "metadata": {
        "id": "view-in-github",
        "colab_type": "text"
      },
      "source": [
        "<a href=\"https://colab.research.google.com/github/maryumzahra/mylearnings/blob/main/Practice.ipynb\" target=\"_parent\"><img src=\"https://colab.research.google.com/assets/colab-badge.svg\" alt=\"Open In Colab\"/></a>"
      ]
    },
    {
      "cell_type": "markdown",
      "source": [
        "# Exercise: Functions in python"
      ],
      "metadata": {
        "id": "UnsG5L5Wxi0P"
      }
    },
    {
      "cell_type": "markdown",
      "source": [
        "\n",
        "\n",
        "1.   Write a function called calculate_area that takes base and height as an input and returns and area of a triangle.\n",
        "\n"
      ],
      "metadata": {
        "id": "ZyU__zbDxtBd"
      }
    },
    {
      "cell_type": "code",
      "source": [
        "def calculate_area(base,height):\n",
        "  area = 0.5*base*height\n",
        "  return area\n",
        "\n",
        "base= float(input(\"Base of triangle:\"))\n",
        "height= float(input(\"Height of triangle\"))\n",
        "tng_area = calculate_area(base,height)\n",
        "print(f\"Area of triangle: {tng_area}\")"
      ],
      "metadata": {
        "colab": {
          "base_uri": "https://localhost:8080/"
        },
        "id": "wUr7gi-wx82S",
        "outputId": "172b8cdb-ec90-4c6c-c7bf-aefdf4af45ce"
      },
      "execution_count": null,
      "outputs": [
        {
          "output_type": "stream",
          "name": "stdout",
          "text": [
            "Base of triangle:2.4\n",
            "Height of triangle3.5\n",
            "Area of triangle: 4.2\n"
          ]
        }
      ]
    },
    {
      "cell_type": "markdown",
      "source": [
        "\n",
        "\n",
        "\n",
        "2.   Modify above function to take third parameter shape type. It can be either \"triangle\" or \"rectangle\". Based on shape type it will calculate area.\n",
        "\n",
        "\n",
        "\n",
        "\n"
      ],
      "metadata": {
        "id": "izby7bJd1KgE"
      }
    },
    {
      "cell_type": "code",
      "source": [
        "def rect_area(length,width):\n",
        "  area=length*width\n",
        "  return area\n",
        "\n",
        "def trig_area(base,height):\n",
        "  area = 0.5*base*height\n",
        "  return area\n",
        "shape_type= str(input(\"Enter the shape name\"))\n",
        "shape_type.title()\n",
        "if (shape_type==\"Rectangle\"):\n",
        "  length= float(input(\"Enter the length:\"))\n",
        "  width= float(input(\"Enter the width:\"))\n",
        "  n= rect_area(length,width)\n",
        "  print(f\"Area of rectangle:{n}\")\n",
        "\n",
        "\n",
        "elif(shape_type==\"Triangle\"):\n",
        "  base= float(input(\"Enter the base:\"))\n",
        "  height= float(input(\"Enter the height:\"))\n",
        "  n= trig_area(base,height)\n",
        "  print(f\"Area of triangle:{n}\")\n",
        "\n",
        "else:\n",
        "  print(\"Not an ideal shape\")"
      ],
      "metadata": {
        "colab": {
          "base_uri": "https://localhost:8080/"
        },
        "id": "6-bkvVKz1Wv6",
        "outputId": "04cd4fed-50b4-4345-cabc-cacd0b684446"
      },
      "execution_count": null,
      "outputs": [
        {
          "output_type": "stream",
          "name": "stdout",
          "text": [
            "Enter the shape nameTriangle\n",
            "Enter the base:2.3\n",
            "Enter the height:5.6\n",
            "Area of triangle:6.4399999999999995\n"
          ]
        }
      ]
    },
    {
      "cell_type": "markdown",
      "source": [
        "3. Write a function called print_pattern that takes integer number as an argument and prints following pattern equal to the number of rows.\n",
        "\n",
        "\n",
        "\n"
      ],
      "metadata": {
        "id": "pN-mnEVO7Fgk"
      }
    },
    {
      "cell_type": "code",
      "source": [
        "rows=int(input(\"Number of rows:\"))\n",
        "for i in range(rows+1):\n",
        "   print(\"*\"*i)\n",
        "\n"
      ],
      "metadata": {
        "colab": {
          "base_uri": "https://localhost:8080/"
        },
        "id": "9yoGJ_B67T32",
        "outputId": "483b8005-a34f-40be-c4e2-c1358839e549"
      },
      "execution_count": null,
      "outputs": [
        {
          "output_type": "stream",
          "name": "stdout",
          "text": [
            "Number of rows:5\n",
            "\n",
            "*\n",
            "**\n",
            "***\n",
            "****\n",
            "*****\n"
          ]
        }
      ]
    },
    {
      "cell_type": "markdown",
      "source": [],
      "metadata": {
        "id": "A5xo9HyzC7lA"
      }
    }
  ]
}